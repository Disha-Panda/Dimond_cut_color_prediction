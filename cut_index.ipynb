{
 "cells": [
  {
   "attachments": {},
   "cell_type": "markdown",
   "metadata": {},
   "source": [
    "# DIAMOND CUT PREDICTION USING ANN"
   ]
  },
  {
   "attachments": {},
   "cell_type": "markdown",
   "metadata": {},
   "source": [
    "### Importing required libraries"
   ]
  },
  {
   "cell_type": "code",
   "execution_count": 66,
   "metadata": {},
   "outputs": [],
   "source": [
    "import numpy as np\n",
    "import pandas as pd\n",
    "import seaborn as sns\n",
    "import sklearn as sns"
   ]
  },
  {
   "attachments": {},
   "cell_type": "markdown",
   "metadata": {},
   "source": [
    "### Fetching data from csv file"
   ]
  },
  {
   "cell_type": "code",
   "execution_count": 67,
   "metadata": {},
   "outputs": [
    {
     "data": {
      "text/html": [
       "<div>\n",
       "<style scoped>\n",
       "    .dataframe tbody tr th:only-of-type {\n",
       "        vertical-align: middle;\n",
       "    }\n",
       "\n",
       "    .dataframe tbody tr th {\n",
       "        vertical-align: top;\n",
       "    }\n",
       "\n",
       "    .dataframe thead th {\n",
       "        text-align: right;\n",
       "    }\n",
       "</style>\n",
       "<table border=\"1\" class=\"dataframe\">\n",
       "  <thead>\n",
       "    <tr style=\"text-align: right;\">\n",
       "      <th></th>\n",
       "      <th>carat</th>\n",
       "      <th>cut</th>\n",
       "      <th>color</th>\n",
       "      <th>clarity</th>\n",
       "      <th>depth</th>\n",
       "      <th>table</th>\n",
       "      <th>price</th>\n",
       "      <th>x</th>\n",
       "      <th>y</th>\n",
       "      <th>z</th>\n",
       "    </tr>\n",
       "  </thead>\n",
       "  <tbody>\n",
       "    <tr>\n",
       "      <th>0</th>\n",
       "      <td>0.23</td>\n",
       "      <td>bIdeal</td>\n",
       "      <td>bE</td>\n",
       "      <td>bSI2</td>\n",
       "      <td>61.5</td>\n",
       "      <td>55.0</td>\n",
       "      <td>326</td>\n",
       "      <td>3.95</td>\n",
       "      <td>3.98</td>\n",
       "      <td>2.43</td>\n",
       "    </tr>\n",
       "    <tr>\n",
       "      <th>1</th>\n",
       "      <td>0.21</td>\n",
       "      <td>bPremium</td>\n",
       "      <td>bE</td>\n",
       "      <td>bSI1</td>\n",
       "      <td>59.8</td>\n",
       "      <td>61.0</td>\n",
       "      <td>326</td>\n",
       "      <td>3.89</td>\n",
       "      <td>3.84</td>\n",
       "      <td>2.31</td>\n",
       "    </tr>\n",
       "    <tr>\n",
       "      <th>2</th>\n",
       "      <td>0.23</td>\n",
       "      <td>bGood</td>\n",
       "      <td>bE</td>\n",
       "      <td>bVS1</td>\n",
       "      <td>56.9</td>\n",
       "      <td>65.0</td>\n",
       "      <td>327</td>\n",
       "      <td>4.05</td>\n",
       "      <td>4.07</td>\n",
       "      <td>2.31</td>\n",
       "    </tr>\n",
       "    <tr>\n",
       "      <th>3</th>\n",
       "      <td>0.29</td>\n",
       "      <td>bPremium</td>\n",
       "      <td>bI</td>\n",
       "      <td>bVS2</td>\n",
       "      <td>62.4</td>\n",
       "      <td>58.0</td>\n",
       "      <td>334</td>\n",
       "      <td>4.20</td>\n",
       "      <td>4.23</td>\n",
       "      <td>2.63</td>\n",
       "    </tr>\n",
       "    <tr>\n",
       "      <th>4</th>\n",
       "      <td>0.31</td>\n",
       "      <td>bGood</td>\n",
       "      <td>bJ</td>\n",
       "      <td>bSI2</td>\n",
       "      <td>63.3</td>\n",
       "      <td>58.0</td>\n",
       "      <td>335</td>\n",
       "      <td>4.34</td>\n",
       "      <td>4.35</td>\n",
       "      <td>2.75</td>\n",
       "    </tr>\n",
       "  </tbody>\n",
       "</table>\n",
       "</div>"
      ],
      "text/plain": [
       "   carat       cut color clarity  depth  table  price     x     y     z\n",
       "0   0.23    bIdeal    bE    bSI2   61.5   55.0    326  3.95  3.98  2.43\n",
       "1   0.21  bPremium    bE    bSI1   59.8   61.0    326  3.89  3.84  2.31\n",
       "2   0.23     bGood    bE    bVS1   56.9   65.0    327  4.05  4.07  2.31\n",
       "3   0.29  bPremium    bI    bVS2   62.4   58.0    334  4.20  4.23  2.63\n",
       "4   0.31     bGood    bJ    bSI2   63.3   58.0    335  4.34  4.35  2.75"
      ]
     },
     "execution_count": 67,
     "metadata": {},
     "output_type": "execute_result"
    }
   ],
   "source": [
    "data = pd.read_csv(\"diamonds.csv\")\n",
    "data.head()"
   ]
  },
  {
   "cell_type": "code",
   "execution_count": 68,
   "metadata": {},
   "outputs": [],
   "source": [
    "d = d = {\"bIdeal\":0,\"bPremium\":1,\"bGood\":2,\"bVery Good\":3,\"bFair\":4}"
   ]
  },
  {
   "cell_type": "code",
   "execution_count": 69,
   "metadata": {},
   "outputs": [],
   "source": [
    "data[\"cut\"] = data[\"cut\"].map(d)"
   ]
  },
  {
   "cell_type": "code",
   "execution_count": 70,
   "metadata": {},
   "outputs": [
    {
     "data": {
      "text/html": [
       "<div>\n",
       "<style scoped>\n",
       "    .dataframe tbody tr th:only-of-type {\n",
       "        vertical-align: middle;\n",
       "    }\n",
       "\n",
       "    .dataframe tbody tr th {\n",
       "        vertical-align: top;\n",
       "    }\n",
       "\n",
       "    .dataframe thead th {\n",
       "        text-align: right;\n",
       "    }\n",
       "</style>\n",
       "<table border=\"1\" class=\"dataframe\">\n",
       "  <thead>\n",
       "    <tr style=\"text-align: right;\">\n",
       "      <th></th>\n",
       "      <th>carat</th>\n",
       "      <th>cut</th>\n",
       "      <th>color</th>\n",
       "      <th>clarity</th>\n",
       "      <th>depth</th>\n",
       "      <th>table</th>\n",
       "      <th>price</th>\n",
       "      <th>x</th>\n",
       "      <th>y</th>\n",
       "      <th>z</th>\n",
       "    </tr>\n",
       "  </thead>\n",
       "  <tbody>\n",
       "    <tr>\n",
       "      <th>0</th>\n",
       "      <td>0.23</td>\n",
       "      <td>0</td>\n",
       "      <td>bE</td>\n",
       "      <td>bSI2</td>\n",
       "      <td>61.5</td>\n",
       "      <td>55.0</td>\n",
       "      <td>326</td>\n",
       "      <td>3.95</td>\n",
       "      <td>3.98</td>\n",
       "      <td>2.43</td>\n",
       "    </tr>\n",
       "    <tr>\n",
       "      <th>1</th>\n",
       "      <td>0.21</td>\n",
       "      <td>1</td>\n",
       "      <td>bE</td>\n",
       "      <td>bSI1</td>\n",
       "      <td>59.8</td>\n",
       "      <td>61.0</td>\n",
       "      <td>326</td>\n",
       "      <td>3.89</td>\n",
       "      <td>3.84</td>\n",
       "      <td>2.31</td>\n",
       "    </tr>\n",
       "    <tr>\n",
       "      <th>2</th>\n",
       "      <td>0.23</td>\n",
       "      <td>2</td>\n",
       "      <td>bE</td>\n",
       "      <td>bVS1</td>\n",
       "      <td>56.9</td>\n",
       "      <td>65.0</td>\n",
       "      <td>327</td>\n",
       "      <td>4.05</td>\n",
       "      <td>4.07</td>\n",
       "      <td>2.31</td>\n",
       "    </tr>\n",
       "    <tr>\n",
       "      <th>3</th>\n",
       "      <td>0.29</td>\n",
       "      <td>1</td>\n",
       "      <td>bI</td>\n",
       "      <td>bVS2</td>\n",
       "      <td>62.4</td>\n",
       "      <td>58.0</td>\n",
       "      <td>334</td>\n",
       "      <td>4.20</td>\n",
       "      <td>4.23</td>\n",
       "      <td>2.63</td>\n",
       "    </tr>\n",
       "    <tr>\n",
       "      <th>4</th>\n",
       "      <td>0.31</td>\n",
       "      <td>2</td>\n",
       "      <td>bJ</td>\n",
       "      <td>bSI2</td>\n",
       "      <td>63.3</td>\n",
       "      <td>58.0</td>\n",
       "      <td>335</td>\n",
       "      <td>4.34</td>\n",
       "      <td>4.35</td>\n",
       "      <td>2.75</td>\n",
       "    </tr>\n",
       "    <tr>\n",
       "      <th>...</th>\n",
       "      <td>...</td>\n",
       "      <td>...</td>\n",
       "      <td>...</td>\n",
       "      <td>...</td>\n",
       "      <td>...</td>\n",
       "      <td>...</td>\n",
       "      <td>...</td>\n",
       "      <td>...</td>\n",
       "      <td>...</td>\n",
       "      <td>...</td>\n",
       "    </tr>\n",
       "    <tr>\n",
       "      <th>53935</th>\n",
       "      <td>0.72</td>\n",
       "      <td>0</td>\n",
       "      <td>bD</td>\n",
       "      <td>bSI1</td>\n",
       "      <td>60.8</td>\n",
       "      <td>57.0</td>\n",
       "      <td>2757</td>\n",
       "      <td>5.75</td>\n",
       "      <td>5.76</td>\n",
       "      <td>3.50</td>\n",
       "    </tr>\n",
       "    <tr>\n",
       "      <th>53936</th>\n",
       "      <td>0.72</td>\n",
       "      <td>2</td>\n",
       "      <td>bD</td>\n",
       "      <td>bSI1</td>\n",
       "      <td>63.1</td>\n",
       "      <td>55.0</td>\n",
       "      <td>2757</td>\n",
       "      <td>5.69</td>\n",
       "      <td>5.75</td>\n",
       "      <td>3.61</td>\n",
       "    </tr>\n",
       "    <tr>\n",
       "      <th>53937</th>\n",
       "      <td>0.70</td>\n",
       "      <td>3</td>\n",
       "      <td>bD</td>\n",
       "      <td>bSI1</td>\n",
       "      <td>62.8</td>\n",
       "      <td>60.0</td>\n",
       "      <td>2757</td>\n",
       "      <td>5.66</td>\n",
       "      <td>5.68</td>\n",
       "      <td>3.56</td>\n",
       "    </tr>\n",
       "    <tr>\n",
       "      <th>53938</th>\n",
       "      <td>0.86</td>\n",
       "      <td>1</td>\n",
       "      <td>bH</td>\n",
       "      <td>bSI2</td>\n",
       "      <td>61.0</td>\n",
       "      <td>58.0</td>\n",
       "      <td>2757</td>\n",
       "      <td>6.15</td>\n",
       "      <td>6.12</td>\n",
       "      <td>3.74</td>\n",
       "    </tr>\n",
       "    <tr>\n",
       "      <th>53939</th>\n",
       "      <td>0.75</td>\n",
       "      <td>0</td>\n",
       "      <td>bD</td>\n",
       "      <td>bSI2</td>\n",
       "      <td>62.2</td>\n",
       "      <td>55.0</td>\n",
       "      <td>2757</td>\n",
       "      <td>5.83</td>\n",
       "      <td>5.87</td>\n",
       "      <td>3.64</td>\n",
       "    </tr>\n",
       "  </tbody>\n",
       "</table>\n",
       "<p>53940 rows × 10 columns</p>\n",
       "</div>"
      ],
      "text/plain": [
       "       carat  cut color clarity  depth  table  price     x     y     z\n",
       "0       0.23    0    bE    bSI2   61.5   55.0    326  3.95  3.98  2.43\n",
       "1       0.21    1    bE    bSI1   59.8   61.0    326  3.89  3.84  2.31\n",
       "2       0.23    2    bE    bVS1   56.9   65.0    327  4.05  4.07  2.31\n",
       "3       0.29    1    bI    bVS2   62.4   58.0    334  4.20  4.23  2.63\n",
       "4       0.31    2    bJ    bSI2   63.3   58.0    335  4.34  4.35  2.75\n",
       "...      ...  ...   ...     ...    ...    ...    ...   ...   ...   ...\n",
       "53935   0.72    0    bD    bSI1   60.8   57.0   2757  5.75  5.76  3.50\n",
       "53936   0.72    2    bD    bSI1   63.1   55.0   2757  5.69  5.75  3.61\n",
       "53937   0.70    3    bD    bSI1   62.8   60.0   2757  5.66  5.68  3.56\n",
       "53938   0.86    1    bH    bSI2   61.0   58.0   2757  6.15  6.12  3.74\n",
       "53939   0.75    0    bD    bSI2   62.2   55.0   2757  5.83  5.87  3.64\n",
       "\n",
       "[53940 rows x 10 columns]"
      ]
     },
     "execution_count": 70,
     "metadata": {},
     "output_type": "execute_result"
    }
   ],
   "source": [
    "data"
   ]
  },
  {
   "cell_type": "code",
   "execution_count": 71,
   "metadata": {},
   "outputs": [],
   "source": [
    "c={\"bD\":0,\"bE\":1,\"bF\":2,\"bG\":3,\"bH\":4,\"bI\":5,\"bJ\":6}"
   ]
  },
  {
   "cell_type": "code",
   "execution_count": 72,
   "metadata": {},
   "outputs": [],
   "source": [
    "data[\"color\"] = data[\"color\"].map(c)"
   ]
  },
  {
   "cell_type": "code",
   "execution_count": 73,
   "metadata": {},
   "outputs": [
    {
     "data": {
      "text/html": [
       "<div>\n",
       "<style scoped>\n",
       "    .dataframe tbody tr th:only-of-type {\n",
       "        vertical-align: middle;\n",
       "    }\n",
       "\n",
       "    .dataframe tbody tr th {\n",
       "        vertical-align: top;\n",
       "    }\n",
       "\n",
       "    .dataframe thead th {\n",
       "        text-align: right;\n",
       "    }\n",
       "</style>\n",
       "<table border=\"1\" class=\"dataframe\">\n",
       "  <thead>\n",
       "    <tr style=\"text-align: right;\">\n",
       "      <th></th>\n",
       "      <th>carat</th>\n",
       "      <th>cut</th>\n",
       "      <th>color</th>\n",
       "      <th>clarity</th>\n",
       "      <th>depth</th>\n",
       "      <th>table</th>\n",
       "      <th>price</th>\n",
       "      <th>x</th>\n",
       "      <th>y</th>\n",
       "      <th>z</th>\n",
       "    </tr>\n",
       "  </thead>\n",
       "  <tbody>\n",
       "    <tr>\n",
       "      <th>0</th>\n",
       "      <td>0.23</td>\n",
       "      <td>0</td>\n",
       "      <td>1</td>\n",
       "      <td>bSI2</td>\n",
       "      <td>61.5</td>\n",
       "      <td>55.0</td>\n",
       "      <td>326</td>\n",
       "      <td>3.95</td>\n",
       "      <td>3.98</td>\n",
       "      <td>2.43</td>\n",
       "    </tr>\n",
       "    <tr>\n",
       "      <th>1</th>\n",
       "      <td>0.21</td>\n",
       "      <td>1</td>\n",
       "      <td>1</td>\n",
       "      <td>bSI1</td>\n",
       "      <td>59.8</td>\n",
       "      <td>61.0</td>\n",
       "      <td>326</td>\n",
       "      <td>3.89</td>\n",
       "      <td>3.84</td>\n",
       "      <td>2.31</td>\n",
       "    </tr>\n",
       "    <tr>\n",
       "      <th>2</th>\n",
       "      <td>0.23</td>\n",
       "      <td>2</td>\n",
       "      <td>1</td>\n",
       "      <td>bVS1</td>\n",
       "      <td>56.9</td>\n",
       "      <td>65.0</td>\n",
       "      <td>327</td>\n",
       "      <td>4.05</td>\n",
       "      <td>4.07</td>\n",
       "      <td>2.31</td>\n",
       "    </tr>\n",
       "    <tr>\n",
       "      <th>3</th>\n",
       "      <td>0.29</td>\n",
       "      <td>1</td>\n",
       "      <td>5</td>\n",
       "      <td>bVS2</td>\n",
       "      <td>62.4</td>\n",
       "      <td>58.0</td>\n",
       "      <td>334</td>\n",
       "      <td>4.20</td>\n",
       "      <td>4.23</td>\n",
       "      <td>2.63</td>\n",
       "    </tr>\n",
       "    <tr>\n",
       "      <th>4</th>\n",
       "      <td>0.31</td>\n",
       "      <td>2</td>\n",
       "      <td>6</td>\n",
       "      <td>bSI2</td>\n",
       "      <td>63.3</td>\n",
       "      <td>58.0</td>\n",
       "      <td>335</td>\n",
       "      <td>4.34</td>\n",
       "      <td>4.35</td>\n",
       "      <td>2.75</td>\n",
       "    </tr>\n",
       "    <tr>\n",
       "      <th>...</th>\n",
       "      <td>...</td>\n",
       "      <td>...</td>\n",
       "      <td>...</td>\n",
       "      <td>...</td>\n",
       "      <td>...</td>\n",
       "      <td>...</td>\n",
       "      <td>...</td>\n",
       "      <td>...</td>\n",
       "      <td>...</td>\n",
       "      <td>...</td>\n",
       "    </tr>\n",
       "    <tr>\n",
       "      <th>53935</th>\n",
       "      <td>0.72</td>\n",
       "      <td>0</td>\n",
       "      <td>0</td>\n",
       "      <td>bSI1</td>\n",
       "      <td>60.8</td>\n",
       "      <td>57.0</td>\n",
       "      <td>2757</td>\n",
       "      <td>5.75</td>\n",
       "      <td>5.76</td>\n",
       "      <td>3.50</td>\n",
       "    </tr>\n",
       "    <tr>\n",
       "      <th>53936</th>\n",
       "      <td>0.72</td>\n",
       "      <td>2</td>\n",
       "      <td>0</td>\n",
       "      <td>bSI1</td>\n",
       "      <td>63.1</td>\n",
       "      <td>55.0</td>\n",
       "      <td>2757</td>\n",
       "      <td>5.69</td>\n",
       "      <td>5.75</td>\n",
       "      <td>3.61</td>\n",
       "    </tr>\n",
       "    <tr>\n",
       "      <th>53937</th>\n",
       "      <td>0.70</td>\n",
       "      <td>3</td>\n",
       "      <td>0</td>\n",
       "      <td>bSI1</td>\n",
       "      <td>62.8</td>\n",
       "      <td>60.0</td>\n",
       "      <td>2757</td>\n",
       "      <td>5.66</td>\n",
       "      <td>5.68</td>\n",
       "      <td>3.56</td>\n",
       "    </tr>\n",
       "    <tr>\n",
       "      <th>53938</th>\n",
       "      <td>0.86</td>\n",
       "      <td>1</td>\n",
       "      <td>4</td>\n",
       "      <td>bSI2</td>\n",
       "      <td>61.0</td>\n",
       "      <td>58.0</td>\n",
       "      <td>2757</td>\n",
       "      <td>6.15</td>\n",
       "      <td>6.12</td>\n",
       "      <td>3.74</td>\n",
       "    </tr>\n",
       "    <tr>\n",
       "      <th>53939</th>\n",
       "      <td>0.75</td>\n",
       "      <td>0</td>\n",
       "      <td>0</td>\n",
       "      <td>bSI2</td>\n",
       "      <td>62.2</td>\n",
       "      <td>55.0</td>\n",
       "      <td>2757</td>\n",
       "      <td>5.83</td>\n",
       "      <td>5.87</td>\n",
       "      <td>3.64</td>\n",
       "    </tr>\n",
       "  </tbody>\n",
       "</table>\n",
       "<p>53940 rows × 10 columns</p>\n",
       "</div>"
      ],
      "text/plain": [
       "       carat  cut  color clarity  depth  table  price     x     y     z\n",
       "0       0.23    0      1    bSI2   61.5   55.0    326  3.95  3.98  2.43\n",
       "1       0.21    1      1    bSI1   59.8   61.0    326  3.89  3.84  2.31\n",
       "2       0.23    2      1    bVS1   56.9   65.0    327  4.05  4.07  2.31\n",
       "3       0.29    1      5    bVS2   62.4   58.0    334  4.20  4.23  2.63\n",
       "4       0.31    2      6    bSI2   63.3   58.0    335  4.34  4.35  2.75\n",
       "...      ...  ...    ...     ...    ...    ...    ...   ...   ...   ...\n",
       "53935   0.72    0      0    bSI1   60.8   57.0   2757  5.75  5.76  3.50\n",
       "53936   0.72    2      0    bSI1   63.1   55.0   2757  5.69  5.75  3.61\n",
       "53937   0.70    3      0    bSI1   62.8   60.0   2757  5.66  5.68  3.56\n",
       "53938   0.86    1      4    bSI2   61.0   58.0   2757  6.15  6.12  3.74\n",
       "53939   0.75    0      0    bSI2   62.2   55.0   2757  5.83  5.87  3.64\n",
       "\n",
       "[53940 rows x 10 columns]"
      ]
     },
     "execution_count": 73,
     "metadata": {},
     "output_type": "execute_result"
    }
   ],
   "source": [
    "data"
   ]
  },
  {
   "attachments": {},
   "cell_type": "markdown",
   "metadata": {},
   "source": [
    "### Dividing features and target"
   ]
  },
  {
   "cell_type": "code",
   "execution_count": 74,
   "metadata": {},
   "outputs": [],
   "source": [
    "x = data.drop(columns=['cut','clarity'])\n",
    "y=data.cut"
   ]
  },
  {
   "cell_type": "code",
   "execution_count": 75,
   "metadata": {},
   "outputs": [
    {
     "data": {
      "text/html": [
       "<div>\n",
       "<style scoped>\n",
       "    .dataframe tbody tr th:only-of-type {\n",
       "        vertical-align: middle;\n",
       "    }\n",
       "\n",
       "    .dataframe tbody tr th {\n",
       "        vertical-align: top;\n",
       "    }\n",
       "\n",
       "    .dataframe thead th {\n",
       "        text-align: right;\n",
       "    }\n",
       "</style>\n",
       "<table border=\"1\" class=\"dataframe\">\n",
       "  <thead>\n",
       "    <tr style=\"text-align: right;\">\n",
       "      <th></th>\n",
       "      <th>carat</th>\n",
       "      <th>color</th>\n",
       "      <th>depth</th>\n",
       "      <th>table</th>\n",
       "      <th>price</th>\n",
       "      <th>x</th>\n",
       "      <th>y</th>\n",
       "      <th>z</th>\n",
       "    </tr>\n",
       "  </thead>\n",
       "  <tbody>\n",
       "    <tr>\n",
       "      <th>0</th>\n",
       "      <td>0.23</td>\n",
       "      <td>1</td>\n",
       "      <td>61.5</td>\n",
       "      <td>55.0</td>\n",
       "      <td>326</td>\n",
       "      <td>3.95</td>\n",
       "      <td>3.98</td>\n",
       "      <td>2.43</td>\n",
       "    </tr>\n",
       "    <tr>\n",
       "      <th>1</th>\n",
       "      <td>0.21</td>\n",
       "      <td>1</td>\n",
       "      <td>59.8</td>\n",
       "      <td>61.0</td>\n",
       "      <td>326</td>\n",
       "      <td>3.89</td>\n",
       "      <td>3.84</td>\n",
       "      <td>2.31</td>\n",
       "    </tr>\n",
       "    <tr>\n",
       "      <th>2</th>\n",
       "      <td>0.23</td>\n",
       "      <td>1</td>\n",
       "      <td>56.9</td>\n",
       "      <td>65.0</td>\n",
       "      <td>327</td>\n",
       "      <td>4.05</td>\n",
       "      <td>4.07</td>\n",
       "      <td>2.31</td>\n",
       "    </tr>\n",
       "    <tr>\n",
       "      <th>3</th>\n",
       "      <td>0.29</td>\n",
       "      <td>5</td>\n",
       "      <td>62.4</td>\n",
       "      <td>58.0</td>\n",
       "      <td>334</td>\n",
       "      <td>4.20</td>\n",
       "      <td>4.23</td>\n",
       "      <td>2.63</td>\n",
       "    </tr>\n",
       "    <tr>\n",
       "      <th>4</th>\n",
       "      <td>0.31</td>\n",
       "      <td>6</td>\n",
       "      <td>63.3</td>\n",
       "      <td>58.0</td>\n",
       "      <td>335</td>\n",
       "      <td>4.34</td>\n",
       "      <td>4.35</td>\n",
       "      <td>2.75</td>\n",
       "    </tr>\n",
       "    <tr>\n",
       "      <th>...</th>\n",
       "      <td>...</td>\n",
       "      <td>...</td>\n",
       "      <td>...</td>\n",
       "      <td>...</td>\n",
       "      <td>...</td>\n",
       "      <td>...</td>\n",
       "      <td>...</td>\n",
       "      <td>...</td>\n",
       "    </tr>\n",
       "    <tr>\n",
       "      <th>53935</th>\n",
       "      <td>0.72</td>\n",
       "      <td>0</td>\n",
       "      <td>60.8</td>\n",
       "      <td>57.0</td>\n",
       "      <td>2757</td>\n",
       "      <td>5.75</td>\n",
       "      <td>5.76</td>\n",
       "      <td>3.50</td>\n",
       "    </tr>\n",
       "    <tr>\n",
       "      <th>53936</th>\n",
       "      <td>0.72</td>\n",
       "      <td>0</td>\n",
       "      <td>63.1</td>\n",
       "      <td>55.0</td>\n",
       "      <td>2757</td>\n",
       "      <td>5.69</td>\n",
       "      <td>5.75</td>\n",
       "      <td>3.61</td>\n",
       "    </tr>\n",
       "    <tr>\n",
       "      <th>53937</th>\n",
       "      <td>0.70</td>\n",
       "      <td>0</td>\n",
       "      <td>62.8</td>\n",
       "      <td>60.0</td>\n",
       "      <td>2757</td>\n",
       "      <td>5.66</td>\n",
       "      <td>5.68</td>\n",
       "      <td>3.56</td>\n",
       "    </tr>\n",
       "    <tr>\n",
       "      <th>53938</th>\n",
       "      <td>0.86</td>\n",
       "      <td>4</td>\n",
       "      <td>61.0</td>\n",
       "      <td>58.0</td>\n",
       "      <td>2757</td>\n",
       "      <td>6.15</td>\n",
       "      <td>6.12</td>\n",
       "      <td>3.74</td>\n",
       "    </tr>\n",
       "    <tr>\n",
       "      <th>53939</th>\n",
       "      <td>0.75</td>\n",
       "      <td>0</td>\n",
       "      <td>62.2</td>\n",
       "      <td>55.0</td>\n",
       "      <td>2757</td>\n",
       "      <td>5.83</td>\n",
       "      <td>5.87</td>\n",
       "      <td>3.64</td>\n",
       "    </tr>\n",
       "  </tbody>\n",
       "</table>\n",
       "<p>53940 rows × 8 columns</p>\n",
       "</div>"
      ],
      "text/plain": [
       "       carat  color  depth  table  price     x     y     z\n",
       "0       0.23      1   61.5   55.0    326  3.95  3.98  2.43\n",
       "1       0.21      1   59.8   61.0    326  3.89  3.84  2.31\n",
       "2       0.23      1   56.9   65.0    327  4.05  4.07  2.31\n",
       "3       0.29      5   62.4   58.0    334  4.20  4.23  2.63\n",
       "4       0.31      6   63.3   58.0    335  4.34  4.35  2.75\n",
       "...      ...    ...    ...    ...    ...   ...   ...   ...\n",
       "53935   0.72      0   60.8   57.0   2757  5.75  5.76  3.50\n",
       "53936   0.72      0   63.1   55.0   2757  5.69  5.75  3.61\n",
       "53937   0.70      0   62.8   60.0   2757  5.66  5.68  3.56\n",
       "53938   0.86      4   61.0   58.0   2757  6.15  6.12  3.74\n",
       "53939   0.75      0   62.2   55.0   2757  5.83  5.87  3.64\n",
       "\n",
       "[53940 rows x 8 columns]"
      ]
     },
     "execution_count": 75,
     "metadata": {},
     "output_type": "execute_result"
    }
   ],
   "source": [
    "x"
   ]
  },
  {
   "attachments": {},
   "cell_type": "markdown",
   "metadata": {},
   "source": [
    "### Splitting train and test data"
   ]
  },
  {
   "cell_type": "code",
   "execution_count": 76,
   "metadata": {},
   "outputs": [],
   "source": [
    "from sklearn.model_selection import train_test_split\n",
    "x_train,x_test,y_train,y_test = train_test_split(x,y,test_size=0.2,random_state=0)"
   ]
  },
  {
   "attachments": {},
   "cell_type": "markdown",
   "metadata": {},
   "source": [
    "### Scaling the train and test data"
   ]
  },
  {
   "cell_type": "code",
   "execution_count": 77,
   "metadata": {},
   "outputs": [],
   "source": [
    "from sklearn.preprocessing import StandardScaler\n",
    "scaler = StandardScaler()\n",
    "\n",
    "x_train_scaled = scaler.fit_transform(x_train)\n",
    "x_test_scaled = scaler.transform(x_test)"
   ]
  },
  {
   "cell_type": "code",
   "execution_count": 78,
   "metadata": {},
   "outputs": [],
   "source": [
    "y_train_scaled = y_train.to_numpy()\n",
    "y_test_scaled = y_test.to_numpy()"
   ]
  },
  {
   "attachments": {},
   "cell_type": "markdown",
   "metadata": {},
   "source": [
    "### Importing DL libraries"
   ]
  },
  {
   "cell_type": "code",
   "execution_count": 79,
   "metadata": {},
   "outputs": [],
   "source": [
    "import tensorflow\n",
    "from tensorflow import keras\n",
    "from keras import Sequential\n",
    "from keras.layers import Dense"
   ]
  },
  {
   "attachments": {},
   "cell_type": "markdown",
   "metadata": {},
   "source": [
    "### Developing a artificial neural network"
   ]
  },
  {
   "cell_type": "code",
   "execution_count": 80,
   "metadata": {},
   "outputs": [],
   "source": [
    "model = Sequential()\n",
    "\n",
    "model.add(Dense(100,activation=\"relu\",input_dim=8))\n",
    "model.add(Dense(50,activation=\"relu\"))\n",
    "model.add(Dense(25,activation=\"relu\"))\n",
    "model.add(Dense(5,activation=\"softmax\"))"
   ]
  },
  {
   "attachments": {},
   "cell_type": "markdown",
   "metadata": {},
   "source": [
    "### Training the model with train data"
   ]
  },
  {
   "cell_type": "code",
   "execution_count": 81,
   "metadata": {},
   "outputs": [],
   "source": [
    "model.compile(loss='sparse_categorical_crossentropy',optimizer='Adam',metrics=['accuracy'])"
   ]
  },
  {
   "cell_type": "code",
   "execution_count": 82,
   "metadata": {},
   "outputs": [
    {
     "name": "stdout",
     "output_type": "stream",
     "text": [
      "Epoch 1/50\n",
      "1079/1079 [==============================] - 7s 6ms/step - loss: 0.8550 - accuracy: 0.6756 - val_loss: 0.7688 - val_accuracy: 0.7041\n",
      "Epoch 2/50\n",
      "1079/1079 [==============================] - 3s 2ms/step - loss: 0.7379 - accuracy: 0.7139 - val_loss: 0.7349 - val_accuracy: 0.7212\n",
      "Epoch 3/50\n",
      "1079/1079 [==============================] - 3s 3ms/step - loss: 0.7054 - accuracy: 0.7272 - val_loss: 0.6891 - val_accuracy: 0.7437\n",
      "Epoch 4/50\n",
      "1079/1079 [==============================] - 3s 3ms/step - loss: 0.6597 - accuracy: 0.7482 - val_loss: 0.7106 - val_accuracy: 0.7201\n",
      "Epoch 5/50\n",
      "1079/1079 [==============================] - 3s 2ms/step - loss: 0.6261 - accuracy: 0.7588 - val_loss: 0.6257 - val_accuracy: 0.7696\n",
      "Epoch 6/50\n",
      "1079/1079 [==============================] - 3s 2ms/step - loss: 0.6064 - accuracy: 0.7662 - val_loss: 0.6201 - val_accuracy: 0.7607\n",
      "Epoch 7/50\n",
      "1079/1079 [==============================] - 3s 3ms/step - loss: 0.5942 - accuracy: 0.7701 - val_loss: 0.6163 - val_accuracy: 0.7570\n",
      "Epoch 8/50\n",
      "1079/1079 [==============================] - 3s 3ms/step - loss: 0.5799 - accuracy: 0.7725 - val_loss: 0.5936 - val_accuracy: 0.7631\n",
      "Epoch 9/50\n",
      "1079/1079 [==============================] - 4s 3ms/step - loss: 0.5738 - accuracy: 0.7767 - val_loss: 0.5803 - val_accuracy: 0.7769\n",
      "Epoch 10/50\n",
      "1079/1079 [==============================] - 2s 2ms/step - loss: 0.5678 - accuracy: 0.7761 - val_loss: 0.5802 - val_accuracy: 0.7730\n",
      "Epoch 11/50\n",
      "1079/1079 [==============================] - 3s 2ms/step - loss: 0.5607 - accuracy: 0.7794 - val_loss: 0.5782 - val_accuracy: 0.7745\n",
      "Epoch 12/50\n",
      "1079/1079 [==============================] - 6s 6ms/step - loss: 0.5577 - accuracy: 0.7795 - val_loss: 0.5667 - val_accuracy: 0.7763\n",
      "Epoch 13/50\n",
      "1079/1079 [==============================] - 8s 8ms/step - loss: 0.5517 - accuracy: 0.7817 - val_loss: 0.5716 - val_accuracy: 0.7786\n",
      "Epoch 14/50\n",
      "1079/1079 [==============================] - 7s 7ms/step - loss: 0.5470 - accuracy: 0.7857 - val_loss: 0.5633 - val_accuracy: 0.7839\n",
      "Epoch 15/50\n",
      "1079/1079 [==============================] - 11s 10ms/step - loss: 0.5442 - accuracy: 0.7859 - val_loss: 0.5499 - val_accuracy: 0.7828\n",
      "Epoch 16/50\n",
      "1079/1079 [==============================] - 3s 2ms/step - loss: 0.5380 - accuracy: 0.7876 - val_loss: 0.5554 - val_accuracy: 0.7889\n",
      "Epoch 17/50\n",
      "1079/1079 [==============================] - 2s 2ms/step - loss: 0.5365 - accuracy: 0.7901 - val_loss: 0.5506 - val_accuracy: 0.7890\n",
      "Epoch 18/50\n",
      "1079/1079 [==============================] - 3s 3ms/step - loss: 0.5331 - accuracy: 0.7887 - val_loss: 0.5410 - val_accuracy: 0.7901\n",
      "Epoch 19/50\n",
      "1079/1079 [==============================] - 3s 3ms/step - loss: 0.5283 - accuracy: 0.7909 - val_loss: 0.5403 - val_accuracy: 0.7912\n",
      "Epoch 20/50\n",
      "1079/1079 [==============================] - 4s 4ms/step - loss: 0.5268 - accuracy: 0.7921 - val_loss: 0.5471 - val_accuracy: 0.7888\n",
      "Epoch 21/50\n",
      "1079/1079 [==============================] - 5s 4ms/step - loss: 0.5258 - accuracy: 0.7930 - val_loss: 0.5428 - val_accuracy: 0.7941\n",
      "Epoch 22/50\n",
      "1079/1079 [==============================] - 4s 3ms/step - loss: 0.5210 - accuracy: 0.7930 - val_loss: 0.5396 - val_accuracy: 0.7931\n",
      "Epoch 23/50\n",
      "1079/1079 [==============================] - 4s 4ms/step - loss: 0.5194 - accuracy: 0.7952 - val_loss: 0.5444 - val_accuracy: 0.7873\n",
      "Epoch 24/50\n",
      "1079/1079 [==============================] - 5s 4ms/step - loss: 0.5174 - accuracy: 0.7949 - val_loss: 0.5429 - val_accuracy: 0.7910\n",
      "Epoch 25/50\n",
      "1079/1079 [==============================] - 3s 3ms/step - loss: 0.5145 - accuracy: 0.7953 - val_loss: 0.5445 - val_accuracy: 0.7879\n",
      "Epoch 26/50\n",
      "1079/1079 [==============================] - 3s 3ms/step - loss: 0.5150 - accuracy: 0.7968 - val_loss: 0.5490 - val_accuracy: 0.7872\n",
      "Epoch 27/50\n",
      "1079/1079 [==============================] - 3s 3ms/step - loss: 0.5110 - accuracy: 0.7974 - val_loss: 0.5285 - val_accuracy: 0.7904\n",
      "Epoch 28/50\n",
      "1079/1079 [==============================] - 3s 3ms/step - loss: 0.5088 - accuracy: 0.7975 - val_loss: 0.5266 - val_accuracy: 0.7949\n",
      "Epoch 29/50\n",
      "1079/1079 [==============================] - 3s 3ms/step - loss: 0.5070 - accuracy: 0.7982 - val_loss: 0.5231 - val_accuracy: 0.7996\n",
      "Epoch 30/50\n",
      "1079/1079 [==============================] - 3s 3ms/step - loss: 0.5060 - accuracy: 0.7993 - val_loss: 0.5322 - val_accuracy: 0.7957\n",
      "Epoch 31/50\n",
      "1079/1079 [==============================] - 3s 3ms/step - loss: 0.5040 - accuracy: 0.7980 - val_loss: 0.5421 - val_accuracy: 0.7869\n",
      "Epoch 32/50\n",
      "1079/1079 [==============================] - 3s 3ms/step - loss: 0.5029 - accuracy: 0.7997 - val_loss: 0.5481 - val_accuracy: 0.7883\n",
      "Epoch 33/50\n",
      "1079/1079 [==============================] - 3s 3ms/step - loss: 0.5050 - accuracy: 0.8000 - val_loss: 0.5293 - val_accuracy: 0.7924\n",
      "Epoch 34/50\n",
      "1079/1079 [==============================] - 3s 3ms/step - loss: 0.4999 - accuracy: 0.8006 - val_loss: 0.5428 - val_accuracy: 0.7858\n",
      "Epoch 35/50\n",
      "1079/1079 [==============================] - 3s 3ms/step - loss: 0.4985 - accuracy: 0.8011 - val_loss: 0.5660 - val_accuracy: 0.7828\n",
      "Epoch 36/50\n",
      "1079/1079 [==============================] - 3s 3ms/step - loss: 0.4984 - accuracy: 0.8016 - val_loss: 0.5458 - val_accuracy: 0.7896\n",
      "Epoch 37/50\n",
      "1079/1079 [==============================] - 3s 3ms/step - loss: 0.4970 - accuracy: 0.8010 - val_loss: 0.5271 - val_accuracy: 0.7967\n",
      "Epoch 38/50\n",
      "1079/1079 [==============================] - 3s 3ms/step - loss: 0.4978 - accuracy: 0.8007 - val_loss: 0.5404 - val_accuracy: 0.7902\n",
      "Epoch 39/50\n",
      "1079/1079 [==============================] - 3s 3ms/step - loss: 0.4953 - accuracy: 0.8040 - val_loss: 0.5422 - val_accuracy: 0.7860\n",
      "Epoch 40/50\n",
      "1079/1079 [==============================] - 3s 2ms/step - loss: 0.4963 - accuracy: 0.8023 - val_loss: 0.5358 - val_accuracy: 0.7927\n",
      "Epoch 41/50\n",
      "1079/1079 [==============================] - 3s 3ms/step - loss: 0.4922 - accuracy: 0.8033 - val_loss: 0.5304 - val_accuracy: 0.7905\n",
      "Epoch 42/50\n",
      "1079/1079 [==============================] - 3s 3ms/step - loss: 0.4929 - accuracy: 0.8028 - val_loss: 0.5311 - val_accuracy: 0.7928\n",
      "Epoch 43/50\n",
      "1079/1079 [==============================] - 3s 2ms/step - loss: 0.4919 - accuracy: 0.8027 - val_loss: 0.5275 - val_accuracy: 0.7960\n",
      "Epoch 44/50\n",
      "1079/1079 [==============================] - 4s 4ms/step - loss: 0.4908 - accuracy: 0.8058 - val_loss: 0.5319 - val_accuracy: 0.7930\n",
      "Epoch 45/50\n",
      "1079/1079 [==============================] - 4s 4ms/step - loss: 0.4902 - accuracy: 0.8031 - val_loss: 0.5479 - val_accuracy: 0.7879\n",
      "Epoch 46/50\n",
      "1079/1079 [==============================] - 3s 3ms/step - loss: 0.4915 - accuracy: 0.8041 - val_loss: 0.5242 - val_accuracy: 0.7983\n",
      "Epoch 47/50\n",
      "1079/1079 [==============================] - 3s 2ms/step - loss: 0.4886 - accuracy: 0.8028 - val_loss: 0.5378 - val_accuracy: 0.7947\n",
      "Epoch 48/50\n",
      "1079/1079 [==============================] - 3s 2ms/step - loss: 0.4882 - accuracy: 0.8041 - val_loss: 0.5264 - val_accuracy: 0.7941\n",
      "Epoch 49/50\n",
      "1079/1079 [==============================] - 3s 2ms/step - loss: 0.4877 - accuracy: 0.8046 - val_loss: 0.5215 - val_accuracy: 0.7956\n",
      "Epoch 50/50\n",
      "1079/1079 [==============================] - 3s 2ms/step - loss: 0.4887 - accuracy: 0.8030 - val_loss: 0.5208 - val_accuracy: 0.7992\n"
     ]
    }
   ],
   "source": [
    "history=model.fit(x_train_scaled,y_train_scaled,epochs=50,validation_split=0.2)"
   ]
  },
  {
   "cell_type": "code",
   "execution_count": 92,
   "metadata": {},
   "outputs": [
    {
     "name": "stdout",
     "output_type": "stream",
     "text": [
      "1/1 [==============================] - 0s 40ms/step\n"
     ]
    }
   ],
   "source": [
    "number = model.predict(x_test_scaled[[34]]).argmax(axis=1)"
   ]
  },
  {
   "cell_type": "code",
   "execution_count": 93,
   "metadata": {},
   "outputs": [
    {
     "data": {
      "text/plain": [
       "array([1], dtype=int64)"
      ]
     },
     "execution_count": 93,
     "metadata": {},
     "output_type": "execute_result"
    }
   ],
   "source": [
    "number"
   ]
  },
  {
   "cell_type": "code",
   "execution_count": 94,
   "metadata": {},
   "outputs": [
    {
     "data": {
      "text/plain": [
       "1"
      ]
     },
     "execution_count": 94,
     "metadata": {},
     "output_type": "execute_result"
    }
   ],
   "source": [
    "y_test_scaled[34]"
   ]
  },
  {
   "attachments": {},
   "cell_type": "markdown",
   "metadata": {},
   "source": [
    "### Calculating the accuracy"
   ]
  },
  {
   "cell_type": "code",
   "execution_count": 98,
   "metadata": {},
   "outputs": [],
   "source": [
    "from sklearn.metrics import classification_report"
   ]
  },
  {
   "attachments": {},
   "cell_type": "markdown",
   "metadata": {},
   "source": [
    "### Plotting the confusion matrix"
   ]
  },
  {
   "cell_type": "code",
   "execution_count": 99,
   "metadata": {},
   "outputs": [
    {
     "name": "stdout",
     "output_type": "stream",
     "text": [
      "338/338 [==============================] - 1s 2ms/step\n"
     ]
    }
   ],
   "source": [
    "y_pred = model.predict(x_test_scaled).argmax(axis=1)\n",
    "from sklearn.metrics import confusion_matrix\n",
    "cf = confusion_matrix(y_test_scaled,y_pred)"
   ]
  },
  {
   "cell_type": "code",
   "execution_count": 100,
   "metadata": {},
   "outputs": [
    {
     "name": "stdout",
     "output_type": "stream",
     "text": [
      "[[3865  106    8  280    0]\n",
      " [ 342 2135    1  312    0]\n",
      " [   6    9  700  251   17]\n",
      " [ 489  162  114 1670    1]\n",
      " [   2    7   51    1  259]]\n"
     ]
    }
   ],
   "source": [
    "print(cf)"
   ]
  },
  {
   "cell_type": "code",
   "execution_count": 101,
   "metadata": {},
   "outputs": [],
   "source": [
    "import seaborn as sns"
   ]
  },
  {
   "cell_type": "code",
   "execution_count": 102,
   "metadata": {},
   "outputs": [
    {
     "data": {
      "text/plain": [
       "<AxesSubplot:>"
      ]
     },
     "execution_count": 102,
     "metadata": {},
     "output_type": "execute_result"
    },
    {
     "data": {
      "image/png": "[encoded data removed]",
      "text/plain": [
       "<Figure size 640x480 with 2 Axes>"
      ]
     },
     "metadata": {},
     "output_type": "display_data"
    }
   ],
   "source": [
    "sns.heatmap(cf, annot=True)"
   ]
  }
 ],
 "metadata": {
  "kernelspec": {
   "display_name": "Python 3",
   "language": "python",
   "name": "python3"
  },
  "language_info": {
   "codemirror_mode": {
    "name": "ipython",
    "version": 3
   },
   "file_extension": ".py",
   "mimetype": "text/x-python",
   "name": "python",
   "nbconvert_exporter": "python",
   "pygments_lexer": "ipython3",
   "version": "3.10.5"
  },
  "orig_nbformat": 4
 },
 "nbformat": 4,
 "nbformat_minor": 2
}
